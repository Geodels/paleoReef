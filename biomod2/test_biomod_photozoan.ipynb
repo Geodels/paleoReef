{
 "cells": [
  {
   "cell_type": "code",
   "execution_count": 1,
   "id": "e29ab501",
   "metadata": {},
   "outputs": [
    {
     "name": "stderr",
     "output_type": "stream",
     "text": [
      "terra 1.7.29\n",
      "\n",
      "The legacy packages maptools, rgdal, and rgeos, underpinning the sp package,\n",
      "which was just loaded, will retire in October 2023.\n",
      "Please refer to R-spatial evolution reports for details, especially\n",
      "https://r-spatial.org/r/2023/05/15/evolution4.html.\n",
      "It may be desirable to make the sf package available;\n",
      "package maintainers should consider adding sf to Suggests:.\n",
      "The sp package is now running under evolution status 2\n",
      "     (status 2 uses the sf package in place of rgdal)\n",
      "\n",
      "biomod2 4.2-3 loaded.\n",
      " /!\\ Since version 4.2 biomod2 relies on terra and may thus return SpatRaster that can easily be converted in RasterStack with `stack()`. We apologize for the trouble @('_')@\n",
      "\n"
     ]
    }
   ],
   "source": [
    "library(terra)\n",
    "library(biomod2)\n",
    "# library(doParallel)"
   ]
  },
  {
   "cell_type": "code",
   "execution_count": 3,
   "id": "5b30b204",
   "metadata": {},
   "outputs": [
    {
     "name": "stderr",
     "output_type": "stream",
     "text": [
      "Warning message in file(file, \"rt\"):\n",
      "“cannot open file 'env_var/photozoan_res1.csv': No such file or directory”\n"
     ]
    },
    {
     "ename": "ERROR",
     "evalue": "Error in file(file, \"rt\"): cannot open the connection\n",
     "output_type": "error",
     "traceback": [
      "Error in file(file, \"rt\"): cannot open the connection\nTraceback:\n",
      "1. read.csv(\"env_var/photozoan_res1.csv\")",
      "2. read.table(file = file, header = header, sep = sep, quote = quote, \n .     dec = dec, fill = fill, comment.char = comment.char, ...)",
      "3. file(file, \"rt\")"
     ]
    }
   ],
   "source": [
    "library(corrplot)\n",
    "\n",
    "reefCSV  <- read.csv('env_var/photozoan.csv')\n",
    "cor.res <- cor(reefCSV)\n",
    "corrplot.mixed(cor.res, tl.cex = 0.7, tl.col = \"black\", addCoefasPercent = TRUE)"
   ]
  },
  {
   "cell_type": "code",
   "execution_count": 27,
   "id": "38bc619f",
   "metadata": {},
   "outputs": [],
   "source": [
    "# library(rmcfs)"
   ]
  },
  {
   "cell_type": "code",
   "execution_count": null,
   "id": "75b987f9",
   "metadata": {},
   "outputs": [],
   "source": []
  },
  {
   "cell_type": "code",
   "execution_count": null,
   "id": "2332b61e",
   "metadata": {},
   "outputs": [],
   "source": []
  },
  {
   "cell_type": "code",
   "execution_count": 2,
   "id": "67f6b8e0",
   "metadata": {},
   "outputs": [
    {
     "name": "stderr",
     "output_type": "stream",
     "text": [
      "Loading required package: foreach\n",
      "\n",
      "Loading required package: iterators\n",
      "\n",
      "Loading required package: parallel\n",
      "\n"
     ]
    },
    {
     "name": "stdout",
     "output_type": "stream",
     "text": [
      "\n",
      "-=-=-=-=-=-=-=-=-=-=-=-= photozoan_res3 Data Formating -=-=-=-=-=-=-=-=-=-=-=-=\n",
      "\n",
      "      ! Response variable name was converted into photozoan.res3\n",
      "      ! No data has been set aside for modeling evaluation\n",
      "      ! No data has been set aside for modeling evaluation\n",
      "      ! No data has been set aside for modeling evaluation\n",
      " ! Some NAs have been automatically removed from your data\n",
      "-=-=-=-=-=-=-=-=-=-=-=-=-=-=-=-=-=-= Done -=-=-=-=-=-=-=-=-=-=-=-=-=-=-=-=-=-=\n"
     ]
    }
   ],
   "source": [
    "library(terra)\n",
    "library(biomod2)\n",
    "library(doParallel)\n",
    "registerDoParallel(cores=8)\n",
    "\n",
    "res <- 'res3' # 1 degree resolution\n",
    "reef <- 'photozoan'\n",
    "reefName <- paste0(reef,'_',res)\n",
    "\n",
    "# Read environmental dataset\n",
    "files <- list.files(path=paste0('env_var/bio_',res,'_0Ma_foster'), pattern='.tif', full.names=TRUE )\n",
    "nb_env <- length(files)\n",
    "enviVar <- rast(files[1:nb_env])\n",
    "crs(enviVar) <- '+proj=longlat +datum=WGS84 +no_defs'\n",
    "enviVar <- rev(enviVar)\n",
    "enviVar <- rev(enviVar)\n",
    "\n",
    "# Read PA file\n",
    "filename <- file.path(paste0('env_var/factoryReef3/',res,'_',reef,'.csv'))# 'env_var/factory_reef_0Ma', 'photozoan_large.csv')\n",
    "reefFile  <- read.csv(filename)\n",
    "dfReef <- as.numeric(reefFile[, reef])\n",
    "reefXY <- reefFile[, c('lon','lat')]\n",
    "\n",
    "reefBiomodData <- BIOMOD_FormatingData(resp.var = dfReef,\n",
    "                                     expl.var = enviVar,\n",
    "                                     resp.xy = reefXY,\n",
    "                                     resp.name = reefName)"
   ]
  },
  {
   "cell_type": "code",
   "execution_count": 3,
   "id": "286c479b",
   "metadata": {},
   "outputs": [
    {
     "data": {
      "text/plain": [
       "class       : SpatRaster \n",
       "dimensions  : 360, 720, 8  (nrow, ncol, nlyr)\n",
       "resolution  : 0.5, 0.5  (x, y)\n",
       "extent      : -180, 180, -90, 90  (xmin, xmax, ymin, ymax)\n",
       "coord. ref. : +proj=longlat +datum=WGS84 +no_defs \n",
       "source(s)   : memory\n",
       "names       :   bathy,         curr,   fstream,   saltMax,  saltMin,      sed, ... \n",
       "min values  : -9643.5,  0.008730656, -43.73863,  5.000838,  5.00007,    0.000, ... \n",
       "max values  :  2527.0, 53.702013237, 128.66075, 47.371456, 45.11129, 8884.758, ... "
      ]
     },
     "metadata": {},
     "output_type": "display_data"
    }
   ],
   "source": [
    "enviVar"
   ]
  },
  {
   "cell_type": "code",
   "execution_count": 2,
   "id": "d869498a",
   "metadata": {},
   "outputs": [
    {
     "ename": "ERROR",
     "evalue": "Error in plot(reefBiomodData): object 'reefBiomodData' not found\n",
     "output_type": "error",
     "traceback": [
      "Error in plot(reefBiomodData): object 'reefBiomodData' not found\nTraceback:\n",
      "1. plot(reefBiomodData)"
     ]
    }
   ],
   "source": [
    "plot(reefBiomodData);"
   ]
  },
  {
   "cell_type": "code",
   "execution_count": null,
   "id": "577b9e7a",
   "metadata": {},
   "outputs": [],
   "source": []
  },
  {
   "cell_type": "code",
   "execution_count": null,
   "id": "f2bd6de6",
   "metadata": {},
   "outputs": [],
   "source": []
  },
  {
   "cell_type": "code",
   "execution_count": 2,
   "id": "365c5741",
   "metadata": {},
   "outputs": [],
   "source": [
    "res <- 'res2'\n",
    "myRespName <- 'photozoan'"
   ]
  },
  {
   "cell_type": "code",
   "execution_count": null,
   "id": "5e57432d",
   "metadata": {},
   "outputs": [],
   "source": []
  },
  {
   "cell_type": "code",
   "execution_count": 4,
   "id": "98a76898",
   "metadata": {},
   "outputs": [
    {
     "ename": "ERROR",
     "evalue": "Error in `[.data.frame`(myRespF, , c(\"longitude\", \"latitude\")): undefined columns selected\n",
     "output_type": "error",
     "traceback": [
      "Error in `[.data.frame`(myRespF, , c(\"longitude\", \"latitude\")): undefined columns selected\nTraceback:\n",
      "1. myRespF[, c(\"longitude\", \"latitude\")]",
      "2. `[.data.frame`(myRespF, , c(\"longitude\", \"latitude\"))",
      "3. stop(\"undefined columns selected\")"
     ]
    }
   ],
   "source": [
    "# Read PA file\n",
    "filename <- file.path(paste0('env_var/factoryReef/res4_',myRespName,'.csv'))# 'env_var/factory_reef_0Ma', 'photozoan_large.csv')\n",
    "myRespF  <- read.csv(filename)\n",
    "myResp <- as.numeric(myRespF[, myRespName])\n",
    "myRespXY <- myRespF[, c('longitude','latitude')]\n",
    "\n",
    "# Read environmental dataset\n",
    "files <- list.files(path=paste0('env_var/bio_',res,'_0Ma_smooth'), pattern='.tif', full.names=TRUE )\n",
    "nb_env <- length(files)\n",
    "myExpl <- rast(files[1:nb_env])\n",
    "\n",
    "#Define each environmental variable name\n",
    "names(myExpl) <- c(\"z\",\"cur\",\"mix\",\"sss\",\"sst\")\n",
    "\n",
    "# Flip the data twice to ensure correct representation of PA points\n",
    "crs(myExpl) <- '+proj=longlat +datum=WGS84 +no_defs'\n",
    "myExpl <- rev(myExpl)\n",
    "myExpl <- rev(myExpl)\n",
    "\n",
    "# Format Data with true absences\n",
    "myBiomodData <- BIOMOD_FormatingData(resp.var = myResp,\n",
    "                                     expl.var = myExpl,\n",
    "                                     resp.xy = myRespXY,\n",
    "                                     resp.name = myRespName)\n",
    "\n",
    "# plot(myBiomodData)"
   ]
  },
  {
   "cell_type": "code",
   "execution_count": null,
   "id": "e8c42875",
   "metadata": {},
   "outputs": [],
   "source": [
    "# Default modelling options\n",
    "myBiomodOptions <- BIOMOD_ModelingOptions()\n",
    "\n",
    "# Model single models\n",
    "myBiomodModelOut <- BIOMOD_Modeling(bm.format = myBiomodData,\n",
    "                                    bm.options = myBiomodOptions,\n",
    "                                    modeling.id = 'MAXENT',\n",
    "                                    CV.strategy = 'random',\n",
    "                                    CV.nb.rep = 2,\n",
    "                                    CV.perc = 0.8,\n",
    "                                    var.import = 3,\n",
    "                                    metric.eval = c('TSS','ROC'),\n",
    "                                    seed.val = 123,\n",
    "                                    nb.cpu = 8)"
   ]
  },
  {
   "cell_type": "code",
   "execution_count": null,
   "id": "3f22c368",
   "metadata": {},
   "outputs": [],
   "source": [
    "myBiomodOptions"
   ]
  },
  {
   "cell_type": "code",
   "execution_count": null,
   "id": "1fc1b226",
   "metadata": {},
   "outputs": [],
   "source": [
    "# Model ensemble models\n",
    "myBiomodEM <- BIOMOD_EnsembleModeling(bm.mod = myBiomodModelOut,\n",
    "                                      models.chosen = 'all',\n",
    "                                      em.by = 'all',\n",
    "                                      em.algo = c('EMmean', 'EMcv', 'EMci', 'EMmedian', 'EMca', 'EMwmean'),\n",
    "                                      metric.select = c('TSS'),\n",
    "                                      metric.select.thresh = c(0.7),\n",
    "                                      metric.eval = c('TSS', 'ROC'),\n",
    "                                      var.import = 3,\n",
    "                                      EMci.alpha = 0.05,\n",
    "                                      EMwmean.decay = 'proportional')"
   ]
  },
  {
   "cell_type": "code",
   "execution_count": null,
   "id": "f465f42b",
   "metadata": {},
   "outputs": [],
   "source": [
    "myBiomodModelOut"
   ]
  },
  {
   "cell_type": "code",
   "execution_count": null,
   "id": "47f23424",
   "metadata": {},
   "outputs": [],
   "source": []
  },
  {
   "cell_type": "code",
   "execution_count": null,
   "id": "7f7cbc11",
   "metadata": {},
   "outputs": [],
   "source": []
  },
  {
   "cell_type": "code",
   "execution_count": null,
   "id": "765ade01",
   "metadata": {},
   "outputs": [],
   "source": []
  },
  {
   "cell_type": "code",
   "execution_count": null,
   "id": "b1231f4b",
   "metadata": {},
   "outputs": [],
   "source": []
  },
  {
   "cell_type": "code",
   "execution_count": null,
   "id": "520b7dd3",
   "metadata": {},
   "outputs": [],
   "source": [
    "# Print default modelling options\n",
    "bm_DefaultModelingOptions()\n",
    "\n",
    "# Create default modeling options\n",
    "myBiomodOptions <- BIOMOD_ModelingOptions()\n",
    "myBiomodOptions"
   ]
  },
  {
   "cell_type": "code",
   "execution_count": null,
   "id": "5c69096f",
   "metadata": {},
   "outputs": [],
   "source": [
    "# Model single models\n",
    "myBiomodModelOut <- BIOMOD_Modeling(bm.format = myBiomodData,\n",
    "                                    bm.options = myBiomodOptions,\n",
    "                                    modeling.id = 'AllModels',\n",
    "                                    CV.strategy = 'random',\n",
    "                                    CV.nb.rep = 2,\n",
    "                                    CV.perc = 0.8,\n",
    "                                    var.import = 3,\n",
    "                                    metric.eval = c('TSS','ROC'),\n",
    "                                    seed.val = 123,\n",
    "                                    nb.cpu = 8)\n",
    "myBiomodModelOut\n",
    "\n",
    "# Get evaluation scores & variables importance\n",
    "get_evaluations(myBiomodModelOut)\n",
    "get_variables_importance(myBiomodModelOut)\n",
    "\n",
    "# Represent evaluation scores & variables importance\n",
    "bm_PlotEvalMean(bm.out = myBiomodModelOut)\n",
    "bm_PlotEvalBoxplot(bm.out = myBiomodModelOut, group.by = c('algo', 'algo'))\n",
    "bm_PlotEvalBoxplot(bm.out = myBiomodModelOut, group.by = c('algo', 'run'))\n",
    "bm_PlotVarImpBoxplot(bm.out = myBiomodModelOut, group.by = c('expl.var', 'algo', 'algo'))\n",
    "bm_PlotVarImpBoxplot(bm.out = myBiomodModelOut, group.by = c('expl.var', 'algo', 'run'))\n",
    "bm_PlotVarImpBoxplot(bm.out = myBiomodModelOut, group.by = c('algo', 'expl.var', 'run'))\n",
    "\n",
    "# Represent response curves\n",
    "bm_PlotResponseCurves(bm.out = myBiomodModelOut, \n",
    "                      models.chosen = get_built_models(myBiomodModelOut)[c(1:3, 12:14)],\n",
    "                      fixed.var = 'median')\n",
    "bm_PlotResponseCurves(bm.out = myBiomodModelOut, \n",
    "                      models.chosen = get_built_models(myBiomodModelOut)[c(1:3, 12:14)],\n",
    "                      fixed.var = 'min')\n",
    "bm_PlotResponseCurves(bm.out = myBiomodModelOut, \n",
    "                      models.chosen = get_built_models(myBiomodModelOut)[3],\n",
    "                      fixed.var = 'median',\n",
    "                      do.bivariate = TRUE)"
   ]
  },
  {
   "cell_type": "code",
   "execution_count": null,
   "id": "c92a56e6",
   "metadata": {},
   "outputs": [],
   "source": [
    "# Model ensemble models\n",
    "myBiomodEM <- BIOMOD_EnsembleModeling(bm.mod = myBiomodModelOut,\n",
    "                                      models.chosen = 'all',\n",
    "                                      em.by = 'all',\n",
    "                                      em.algo = c('EMmean', 'EMcv', 'EMci', 'EMmedian', 'EMca', 'EMwmean'),\n",
    "                                      metric.select = c('TSS'),\n",
    "                                      metric.select.thresh = c(0.7),\n",
    "                                      metric.eval = c('TSS', 'ROC'),\n",
    "                                      var.import = 3,\n",
    "                                      EMci.alpha = 0.05,\n",
    "                                      EMwmean.decay = 'proportional')\n",
    "myBiomodEM\n",
    "\n",
    "# Get evaluation scores & variables importance\n",
    "get_evaluations(myBiomodEM)\n",
    "get_variables_importance(myBiomodEM)\n",
    "\n",
    "# Represent evaluation scores & variables importance\n",
    "bm_PlotEvalMean(bm.out = myBiomodEM, group.by = 'full.name')\n",
    "bm_PlotEvalBoxplot(bm.out = myBiomodEM, group.by = c('full.name', 'full.name'))\n",
    "bm_PlotVarImpBoxplot(bm.out = myBiomodEM, group.by = c('expl.var', 'full.name', 'full.name'))\n",
    "bm_PlotVarImpBoxplot(bm.out = myBiomodEM, group.by = c('expl.var', 'algo', 'merged.by.run'))\n",
    "bm_PlotVarImpBoxplot(bm.out = myBiomodEM, group.by = c('algo', 'expl.var', 'merged.by.run'))\n",
    "\n",
    "# Represent response curves\n",
    "bm_PlotResponseCurves(bm.out = myBiomodEM, \n",
    "                      models.chosen = get_built_models(myBiomodEM)[c(1, 6, 7)],\n",
    "                      fixed.var = 'median')\n",
    "bm_PlotResponseCurves(bm.out = myBiomodEM, \n",
    "                      models.chosen = get_built_models(myBiomodEM)[c(1, 6, 7)],\n",
    "                      fixed.var = 'min')\n",
    "bm_PlotResponseCurves(bm.out = myBiomodEM, \n",
    "                      models.chosen = get_built_models(myBiomodEM)[7],\n",
    "                      fixed.var = 'median',\n",
    "                      do.bivariate = TRUE)"
   ]
  },
  {
   "cell_type": "code",
   "execution_count": null,
   "id": "c900e507",
   "metadata": {},
   "outputs": [],
   "source": [
    "# Evaluate models with Boyce index and MPA\n",
    "myBiomodPO <- BIOMOD_PresenceOnly(bm.mod = myBiomodModelOut,\n",
    "                                  bm.em = myBiomodEM)\n",
    "myBiomodPO\n",
    "\n",
    "# Evaluate models with Boyce index and MPA (using background data)\n",
    "myBiomodPO <- BIOMOD_PresenceOnly(bm.mod = myBiomodModelOut,\n",
    "                                  bm.em = myBiomodEM, \n",
    "                                  bg.env = values(myExpl))\n",
    "myBiomodPO"
   ]
  },
  {
   "cell_type": "code",
   "execution_count": null,
   "id": "6021d87b",
   "metadata": {},
   "outputs": [],
   "source": [
    "# Project single models\n",
    "myBiomodProj <- BIOMOD_Projection(bm.mod = myBiomodModelOut,\n",
    "                                  proj.name = 'Current',\n",
    "                                  new.env = myExpl,\n",
    "                                  models.chosen = 'all',\n",
    "                                  metric.binary = 'all',\n",
    "                                  metric.filter = 'all',\n",
    "                                  build.clamping.mask = TRUE)\n",
    "myBiomodProj\n",
    "plot(myBiomodProj)"
   ]
  },
  {
   "cell_type": "code",
   "execution_count": null,
   "id": "0442eb40",
   "metadata": {},
   "outputs": [],
   "source": [
    "# Project ensemble models (from single projections)\n",
    "myBiomodEMProj <- BIOMOD_EnsembleForecasting(bm.em = myBiomodEM, \n",
    "                                             bm.proj = myBiomodProj,\n",
    "                                             models.chosen = 'all',\n",
    "                                             metric.binary = 'all',\n",
    "                                             metric.filter = 'all')\n",
    "                                             \n",
    "# Project ensemble models (building single projections)\n",
    "myBiomodEMProj <- BIOMOD_EnsembleForecasting(bm.em = myBiomodEM,\n",
    "                                             proj.name = 'CurrentEM',\n",
    "                                             new.env = myExpl,\n",
    "                                             models.chosen = 'all',\n",
    "                                             metric.binary = 'all',\n",
    "                                             metric.filter = 'all')\n",
    "myBiomodEMProj\n",
    "plot(myBiomodEMProj)"
   ]
  },
  {
   "cell_type": "code",
   "execution_count": null,
   "id": "000b5fb0",
   "metadata": {},
   "outputs": [],
   "source": []
  },
  {
   "cell_type": "code",
   "execution_count": 1,
   "id": "6a92b18e",
   "metadata": {},
   "outputs": [],
   "source": [
    "res <- 'res5' # 2 degree resolution\n",
    "# res <- 'res6' # 3 degree resolution\n",
    "reef <- 'photozoan'\n",
    "reefName <- paste0(reef,'_',res)"
   ]
  },
  {
   "cell_type": "code",
   "execution_count": 2,
   "id": "3cbba276",
   "metadata": {},
   "outputs": [
    {
     "data": {
      "text/html": [
       "'photozoan_res5'"
      ],
      "text/latex": [
       "'photozoan\\_res5'"
      ],
      "text/markdown": [
       "'photozoan_res5'"
      ],
      "text/plain": [
       "[1] \"photozoan_res5\""
      ]
     },
     "metadata": {},
     "output_type": "display_data"
    }
   ],
   "source": [
    "reefName"
   ]
  },
  {
   "cell_type": "code",
   "execution_count": null,
   "id": "4372ec92",
   "metadata": {},
   "outputs": [],
   "source": []
  }
 ],
 "metadata": {
  "kernelspec": {
   "display_name": "R",
   "language": "R",
   "name": "ir"
  },
  "language_info": {
   "codemirror_mode": "r",
   "file_extension": ".r",
   "mimetype": "text/x-r-source",
   "name": "R",
   "pygments_lexer": "r",
   "version": "4.2.3"
  }
 },
 "nbformat": 4,
 "nbformat_minor": 5
}
